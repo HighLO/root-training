{
 "cells": [
  {
   "cell_type": "markdown",
   "id": "1868d557",
   "metadata": {},
   "source": [
    "# Hypothesis test with LOB data using RDataFrame and RooFit"
   ]
  },
  {
   "cell_type": "markdown",
   "id": "470213d8",
   "metadata": {},
   "source": [
    "In this notebook, we will test the hypothesis that large bid orders placed deep in the order book can have an effect on the price development. This doesn't necessarily mean that there is a casual relation between the large order and the price change, but if it is really possible to influence the market with large limit orders deep in the order book, we would at least see that the price change after large orders behaves different compared to the price change after any order.\n",
    "\n",
    "To test this hypothesis, we will look at the price change of the corn contract 10 seconds after a new bid order at depth 8 in the orderbook. In particular, we will compare the price change arfter such a bid order of any volume versus bid orders at depth 8 that are at least as large as 20 % of the existing volume in the order book."
   ]
  },
  {
   "cell_type": "markdown",
   "id": "ade69fcf",
   "metadata": {},
   "source": [
    "### Introduction on statistical procedure for testing alternative hypothesis against null hypothesis"
   ]
  },
  {
   "cell_type": "markdown",
   "id": "28f04caa",
   "metadata": {},
   "source": [
    "If you have a null hyposthesis and an alternative hypothesis for your model where you want to compare the compatibility the the data, the most powerful tests statistic is the likehood ratio:\n",
    "\n",
    "$$\\tilde{\\lambda}(\\mu) = \\frac{L(\\mu)}{L(0)}.$$\n",
    "\n",
    "Note that the alternative hypothesis usually hase a parameter $\\mu$ that we are interested in measuring.\n",
    "\n",
    "If we have unknown model parameters that are not of interest but are still part of the model (nuisance parameters $\\theta$}, these need to be optimized for each hypothesis before computing the likelihood ratio:\n",
    "\n",
    "$$\\tilde{\\lambda}(\\mu) = \\frac{L(\\mu,\\hat{\\hat{\\theta}}(\\mu))}{L(0,\\hat{\\hat{\\theta}}(0))}.$$\n",
    "\n",
    "This profiling \"profiling\" over the nuisance parameters means we take into account that we don't know their real values are are taking the most cautios route: we take their values to be the ones that give us the least discriminant likelihood ratio."
   ]
  },
  {
   "cell_type": "code",
   "execution_count": 64,
   "id": "8b82b3c6",
   "metadata": {},
   "outputs": [
    {
     "data": {
      "image/png": "[encoded data removed]",
      "text/plain": [
       "<Figure size 432x288 with 1 Axes>"
      ]
     },
     "metadata": {
      "needs_background": "light"
     },
     "output_type": "display_data"
    }
   ],
   "source": [
    "x = np.linspace(0, 2, 200)\n",
    "plt.plot(x, 10*(x-1)**2, label=\"no systematic uncertainties\")\n",
    "plt.plot(x, 10*0.3*(x-1)**2, label=\"with systematic uncertainties\")\n",
    "plt.ylabel(r\"$2\\tilde{\\lambda(\\mu)}$\")\n",
    "plt.xlabel(r\"$\\mu$\")\n",
    "plt.legend()\n",
    "plt.title(\"Typical shape parabola of a log-likelihood ratio\\nwith and without nuisance parameter profiling\")\n",
    "plt.show()"
   ]
  },
  {
   "cell_type": "markdown",
   "id": "92166790",
   "metadata": {},
   "source": [
    "In our example, the alternative hypothesis will have not parameter, e.g. $\\mu$ is always a constant 1."
   ]
  },
  {
   "cell_type": "markdown",
   "id": "59230781",
   "metadata": {},
   "source": [
    "### Part 0 - Setup"
   ]
  },
  {
   "cell_type": "code",
   "execution_count": null,
   "id": "7299b507",
   "metadata": {},
   "outputs": [],
   "source": [
    "# Enter your CERN password to get access to the data files.\n",
    "# You only need to run this once per SWAN session.\n",
    "\n",
    "import getpass\n",
    "import os\n",
    "username = os.environ['USER']\n",
    "if os.system('klist | grep Default | grep ' + username + '@CERN.CH'):\n",
    "    os.system('echo %s' % getpass.getpass() + \" | kinit \" + username)"
   ]
  },
  {
   "cell_type": "markdown",
   "id": "5e4825e8",
   "metadata": {},
   "source": [
    "Do the usual imports of ROOT, numpy and matplotlib. Also import numba which we will use to quickly compute price changes in a given time window."
   ]
  },
  {
   "cell_type": "code",
   "execution_count": 1,
   "id": "f131028e",
   "metadata": {},
   "outputs": [
    {
     "name": "stdout",
     "output_type": "stream",
     "text": [
      "Welcome to JupyROOT 6.24/04\n"
     ]
    }
   ],
   "source": [
    "import numpy as np\n",
    "import ROOT\n",
    "from numba import jit\n",
    "import matplotlib.pyplot as plt"
   ]
  },
  {
   "cell_type": "markdown",
   "id": "3df1c770",
   "metadata": {},
   "source": [
    "Import a helper function to add a numpy array as a column to an RDataFrame."
   ]
  },
  {
   "cell_type": "code",
   "execution_count": 2,
   "id": "6e5d9ab6",
   "metadata": {},
   "outputs": [],
   "source": [
    "from rdf_utils import add_array_to_rdf"
   ]
  },
  {
   "cell_type": "markdown",
   "id": "89e74cf0",
   "metadata": {},
   "source": [
    "### Part 1 - Opening LOB data with RDataFrame and define new column with price change in time window"
   ]
  },
  {
   "cell_type": "markdown",
   "id": "a4166a12",
   "metadata": {},
   "source": [
    "Opening the TTree with the LOB data"
   ]
  },
  {
   "cell_type": "code",
   "execution_count": 3,
   "id": "48ca9e67",
   "metadata": {},
   "outputs": [],
   "source": [
    "#filename = \"20150504_20150508.root\"\n",
    "filename = \"root://eosproject//eos/project/h/highlo/workshop/ZS_ZC/messages/20150504_20150508.root\"\n",
    "treename = \"LOB\"\n",
    "\n",
    "tfile = ROOT.TFile.Open(filename)\n",
    "tree = tfile.Get(treename)"
   ]
  },
  {
   "cell_type": "markdown",
   "id": "6eaf90cf",
   "metadata": {},
   "source": [
    "Creating the RDF with the following filters and column definitions:\n",
    "  * Filter messages for the most recent corn contract (`ZCN5` with `CInded == 1`)\n",
    "  * Filter messages that are really actions\n",
    "  * Define a flag that marks bid orders at depth 8\n",
    "  * Define a flag that marks bid orders at depth 8 with a volume that is at least 20 % of the LOB volume at this side and depth"
   ]
  },
  {
   "cell_type": "code",
   "execution_count": 4,
   "id": "ba1bf600",
   "metadata": {},
   "outputs": [],
   "source": [
    "rdf = ROOT.RDataFrame(treename, tfile) \\\n",
    "        .Filter('ZCN5_IsOriginalMessage == true && ZCN5_CIndex == 1 && ActionIsAction == true') \\\n",
    "        .Define(\"IsNewLevel8BidOrder\", \"ActionSide == 0 && ActionType == 0 && ActionLevel == 8\") \\\n",
    "        .Define(\"IsLargeNewLevel8BidOrder\", \"IsNewLevel8BidOrder && (1.0 * ActionVolume)/ZCN5_AskVolume8 > 0.2\")"
   ]
  },
  {
   "cell_type": "markdown",
   "id": "f6f62549",
   "metadata": {},
   "source": [
    "Define a numba function and a pure Python wrapper to compute the price chage in a given time window."
   ]
  },
  {
   "cell_type": "code",
   "execution_count": 5,
   "id": "72ed8a36",
   "metadata": {},
   "outputs": [],
   "source": [
    "@jit(nopython=True)\n",
    "def _fill_price_diff(time, price, diff, window):\n",
    "    n = len(time)\n",
    "    j = 0\n",
    "    for i in range(n):\n",
    "        while j + 1 < n and time[j + 1] - time[i] < window:\n",
    "            j += 1\n",
    "        diff[i] = price[j] - price[i]\n",
    "        \n",
    "def get_price_diff(time, price, window):\n",
    "    diff = np.zeros(len(price), dtype=price.dtype)\n",
    "    _fill_price_diff(time, price, diff, window)\n",
    "    return diff"
   ]
  },
  {
   "cell_type": "markdown",
   "id": "0531b9ea",
   "metadata": {},
   "source": [
    "Calculate the price change withing a time window of 10 s after a given order and add this price change as a column to the data frame:"
   ]
  },
  {
   "cell_type": "code",
   "execution_count": 6,
   "id": "7fe20455",
   "metadata": {},
   "outputs": [
    {
     "name": "stderr",
     "output_type": "stream",
     "text": [
      "input_line_80:10:7: warning: ignoring return value of function declared with 'nodiscard' attribute [-Wunused-result]\n",
      "      ((const vector<int>*)obj)->empty();\n",
      "      ^~~~~~~~~~~~~~~~~~~~~~~~~~~~~~~~\n",
      "input_line_87:10:7: warning: ignoring return value of function declared with 'nodiscard' attribute [-Wunused-result]\n",
      "      ((const vector<Long64_t>*)obj)->empty();\n",
      "      ^~~~~~~~~~~~~~~~~~~~~~~~~~~~~~~~~~~~~\n",
      "input_line_99:10:7: warning: ignoring return value of function declared with 'nodiscard' attribute [-Wunused-result]\n",
      "      ((const vector<ULong64_t>*)obj)->empty();\n",
      "      ^~~~~~~~~~~~~~~~~~~~~~~~~~~~~~~~~~~~~~\n"
     ]
    }
   ],
   "source": [
    "data = rdf.AsNumpy([\"ZCN5_LastPrice\", \"Time\"])\n",
    "diff_rdf = get_price_diff(data[\"Time\"], data[\"ZCN5_LastPrice\"], window=10000 * 1000000)\n",
    "rdf1 = add_array_to_rdf(rdf, \"Diff\", diff_rdf)"
   ]
  },
  {
   "cell_type": "markdown",
   "id": "9bc18176",
   "metadata": {},
   "source": [
    "### Part 2 - Plotting distribution of price changes\n",
    "\n",
    "Now let's plot the distributions:\n",
    "  * of price changes after all new bid orders at depth 8 (blue)\n",
    "  * of price changes after all new bid orders at depth 8 where the volume exceeeds 20 % of existing volume at that level (red)"
   ]
  },
  {
   "cell_type": "code",
   "execution_count": 21,
   "id": "bd4be06e",
   "metadata": {},
   "outputs": [],
   "source": [
    "n_bins = 5\n",
    "xlim = (-2.5, 2.5)\n",
    "df_h_alt = rdf1.Filter(\"IsLargeNewLevel8BidOrder == true\").Histo1D(\n",
    "    (\"IsLargeNewLevel8BidOrder\", \"New large level 8 bid orders;Price change in ticks within 10 s;Message\",\n",
    "     n_bins, *xlim), \"Diff\")\n",
    "df_h_null = rdf1.Filter(\"IsNewLevel8BidOrder == true\").Histo1D(\n",
    "    (\"IsNewLevel8BidOrder\", \"New level 8 bid orders;Price change in ticks within 10 s;Messages\",\n",
    "     n_bins, *xlim), \"Diff\")\n",
    "h_alt = df_h_alt.GetValue()\n",
    "h_null = df_h_null.GetValue()"
   ]
  },
  {
   "cell_type": "code",
   "execution_count": 23,
   "id": "32028bce",
   "metadata": {},
   "outputs": [
    {
     "name": "stderr",
     "output_type": "stream",
     "text": [
      "Warning in <TCanvas::Constructor>: Deleting canvas with same name: c1\n"
     ]
    },
    {
     "data": {
      "image/png": "[encoded data removed]",
      "text/plain": [
       "<IPython.core.display.Image object>"
      ]
     },
     "metadata": {},
     "output_type": "display_data"
    }
   ],
   "source": [
    "c1 = ROOT.TCanvas(\"c1\")\n",
    "h_alt.SetLineColor(ROOT.kBlue)\n",
    "h_null.Draw()\n",
    "h_alt.SetLineColor(ROOT.kRed)\n",
    "h_alt.Draw(\"SAME\")\n",
    "ROOT.gStyle.SetOptStat(0)\n",
    "\n",
    "legend = ROOT.TLegend(0.6,0.7,0.9,0.9)\n",
    "legend.AddEntry(h_null)\n",
    "legend.AddEntry(h_alt)\n",
    "legend.Draw()\n",
    "\n",
    "c1.Draw()"
   ]
  },
  {
   "cell_type": "markdown",
   "id": "e0f7d050",
   "metadata": {},
   "source": [
    "If it were possible to manipulate the market with large bid orders deep in the order book, the price change a given time after the message would be smaller for such large bid orders.\n",
    "\n",
    "Looking at the listogram this could be the case: the red distribution is more asymetric than the blue one. But is this statistically significant? We can do a more rigurous statistical analysis with RooFit."
   ]
  },
  {
   "cell_type": "markdown",
   "id": "6914190e",
   "metadata": {},
   "source": [
    "### Hypothesis testing with RooFit"
   ]
  },
  {
   "cell_type": "markdown",
   "id": "9104838a",
   "metadata": {},
   "source": [
    "The following statistical analysis might be a slight overkill for just comparing two histograms, but nevertheless it is an interesting example to demonstrate multiple RooFit features and give a feeling for what is possible."
   ]
  },
  {
   "cell_type": "markdown",
   "id": "609cc143",
   "metadata": {},
   "source": [
    "Every part of the RooFit model is a ROOT objet, starting with the observable (in this case the price difference). We will also set the number of bins used for the observable:"
   ]
  },
  {
   "cell_type": "code",
   "execution_count": 9,
   "id": "946b0297",
   "metadata": {},
   "outputs": [
    {
     "name": "stdout",
     "output_type": "stream",
     "text": [
      "\n",
      "\u001b[1mRooFit v3.60 -- Developed by Wouter Verkerke and David Kirkby\u001b[0m \n",
      "                Copyright (C) 2000-2013 NIKHEF, University of California & Stanford University\n",
      "                All rights reserved, please read http://roofit.sourceforge.net/license.txt\n",
      "\n"
     ]
    }
   ],
   "source": [
    "x = ROOT.RooRealVar(\"x\", \"Price change in ticks within 10 s\", 0.0, *xlim)\n",
    "x.setBins(n_bins)"
   ]
  },
  {
   "cell_type": "markdown",
   "id": "25793e85",
   "metadata": {},
   "source": [
    "Next we bring our histograms into RooFit land, connecting them to the observable `x`. The histograms have the suffices `_null` and `_alt` in the name, denoting our null hypothesis (distribution for all new bid orders at level 8) and the alternative hypotheis (distribution for large orders). We want to figure out whether the two distributions are compatible to check our hypothesis that large orders have a different effect on the price change."
   ]
  },
  {
   "cell_type": "code",
   "execution_count": 10,
   "id": "ed35d7b2",
   "metadata": {},
   "outputs": [],
   "source": [
    "roo_h_alt = ROOT.RooDataHist(\"roo_h_alt\", \"roo_h_alt\", ROOT.RooArgList(x), ROOT.RooFit.Import(h_alt))\n",
    "roo_h_null = ROOT.RooDataHist(\"roo_h_null\", \"roo_h_null\", ROOT.RooArgList(x), ROOT.RooFit.Import(h_null))"
   ]
  },
  {
   "cell_type": "markdown",
   "id": "15faec92",
   "metadata": {},
   "source": [
    "Now we create template probability distributions that reflect the two histograms with the `RooHistPdf` class. Since these are pdfs, RooFit will take care of the normalization automatically now."
   ]
  },
  {
   "cell_type": "code",
   "execution_count": 11,
   "id": "6f41c987",
   "metadata": {},
   "outputs": [],
   "source": [
    "model_null = ROOT.RooHistPdf(\"model_null\", \"model_null\", x, x, roo_h_null)\n",
    "model_alt = ROOT.RooHistPdf(\"model_alt\", \"model_alt\", x, x, roo_h_alt)"
   ]
  },
  {
   "cell_type": "markdown",
   "id": "32ed649d",
   "metadata": {},
   "source": [
    "This is the **most tricky part** in this example: we will also consider the systematic uncertainty in our fit that arises from the statistical uncertaintles in the template histograms.\n",
    "\n",
    "The problem is that if we only have a histogram that was sampled from an underlying distribution, we don't actually know the true distribution because the observed counts are distributed areound the unknown expected counts with a Poisson distribution.\n",
    "\n",
    "To account for this, we add a new parameter for each bin in our null hythethisis model. These paramters are the ratios between the true expected values and the observed values in the template histograms. The `RooParamHistFunc` class wraps a simple `RooDataHist` and adds these scaling parameter for each bin. The `RooHistConstraint` object than adds the Poisson constraint to each of these new parameters. This pattern is inspired by the [rf709__BarlowBeeston_8py](https://root.cern/doc/master/rf709__BarlowBeeston_8py.html) tutorial.\n",
    "\n",
    "These new parameters are **nuilsance parameters**: we are not really interested in their values, but we still need to find their optimal values given our observation to minimize the likelihood ratio. This is the likelihood profiling techinque to include systematic uncertainties in your fit.\n",
    "\n",
    "Note that the `fitTo` call does not always work in the notebook, so this fit was precomputed and the result stored in a RooWorkspace. Like this, you can still run the remaining code in this notebook."
   ]
  },
  {
   "cell_type": "code",
   "execution_count": 12,
   "id": "fbbbcb30",
   "metadata": {},
   "outputs": [],
   "source": [
    "is_notebook = True\n",
    "workspace_filename = \"RooFit_HypothesisTest_LOB.root\"\n",
    "\n",
    "if not is_notebook:\n",
    "    # construct the null hypothesis model with the nuisance parameters\n",
    "    roo_h_null_param_func = ROOT.RooParamHistFunc(\"roo_h_null_param_func\", \"roo_h_null_param_func\", roo_h_null)\n",
    "    roo_h_null_param_constr = ROOT.RooHistConstraint(\"roo_h_null_param_constr\",\n",
    "                                                     \"roo_h_null_param_constr\",\n",
    "                                                     roo_h_null_param_func)\n",
    "    model_null_syst = ROOT.RooWrapperPdf(\"model_null_syst\", \"model_null_syst\", roo_h_null_param_func)\n",
    "    ROOT.RooProdPdf(\"tmp\", \"tmp\",\n",
    "                    ROOT.RooArgSet(roo_h_null_param_constr),\n",
    "                    ROOT.RooFit.Conditional(model_null_syst, x)).fitTo(roo_h_alt)\n",
    "        \n",
    "    ws = ROOT.RooWorkspace(\"ws\")\n",
    "    ws.Import(model_null_syst)\n",
    "    ws.writeToFile(workspace_filename)\n",
    "else:\n",
    "    wsfile = ROOT.TFile(workspace_filename)\n",
    "    ws = wsfile.Get(\"ws\")\n",
    "    model_null_syst = ws.pdf(\"model_null_syst\")"
   ]
  },
  {
   "cell_type": "markdown",
   "id": "34272594",
   "metadata": {},
   "source": [
    "Let's visualize the price distribution for all orders and the large orders together:"
   ]
  },
  {
   "cell_type": "code",
   "execution_count": 49,
   "id": "e2211d79",
   "metadata": {},
   "outputs": [
    {
     "name": "stdout",
     "output_type": "stream",
     "text": [
      "[#0] ERROR:InputArguments -- RooTreeData::plotOn(roo_h_alt) ERROR: unrecognized command: Title\n",
      "[#0] ERROR:InputArguments -- RooAbsReal::plotOn(model_null) ERROR: unrecognized command: Title\n"
     ]
    },
    {
     "name": "stderr",
     "output_type": "stream",
     "text": [
      "Warning in <TCanvas::Constructor>: Deleting canvas with same name: c1\n",
      "Warning in <TFile::Append>: Replacing existing TH1: dummy1 (Potential memory leak).\n",
      "Warning in <TFile::Append>: Replacing existing TH1: dummy2 (Potential memory leak).\n"
     ]
    },
    {
     "data": {
      "image/png": "[encoded data removed]",
      "text/plain": [
       "<IPython.core.display.Image object>"
      ]
     },
     "metadata": {},
     "output_type": "display_data"
    }
   ],
   "source": [
    "xframe = x.frame(ROOT.RooFit.Title(x.GetTitle()))\n",
    "\n",
    "c1 = ROOT.TCanvas(\"c1\")\n",
    "\n",
    "roo_h_alt.plotOn(xframe, ROOT.RooFit.Title(\"Null hypothesis\"))\n",
    "model_null.plotOn(xframe, ROOT.RooFit.Title(\"Null hypothesis\"))\n",
    "model_null_syst.plotOn(xframe, ROOT.RooFit.LineColor(ROOT.kCyan), ROOT.RooFit.LineStyle(ROOT.kDashed))\n",
    "xframe.Draw()\n",
    "\n",
    "\n",
    "legend = ROOT.TLegend(0.6,0.7,0.9,0.9)\n",
    "legend.AddEntry(roo_h_alt, \"New large level 8 bid orders\")\n",
    "dummy1 = ROOT.TH1F(\"dummy1\", \"dummy1\", 1, 0, 1)\n",
    "dummy1.SetLineColor(ROOT.kBlue)\n",
    "dummy2 = ROOT.TH1F(\"dummy2\", \"dummy2\", 1, 0, 1)\n",
    "dummy2.SetLineColor(ROOT.kCyan)\n",
    "legend.AddEntry(dummy1, \"All new level 8 bid orders\", \"l\")\n",
    "legend.AddEntry(dummy2, \"Best nuisance parameters\", \"l\")\n",
    "legend.Draw()\n",
    "\n",
    "c1.Draw()"
   ]
  },
  {
   "cell_type": "markdown",
   "id": "2946a39a",
   "metadata": {},
   "source": [
    "Next we define a function for the statistical analysis we want to do:\n",
    "  * compute the log-likelihood ratio for `n_toys` toy datasets generated according to the null hypothesis\n",
    "  * visualize the test statistic distribution\n",
    "  * compute log-likelihood ratio for histogram with large volume orders\n",
    "  * check which fraction of the null hypothesis toys had a likelihood ratio even more incompatible with the null hypothesis to determine the p-value"
   ]
  },
  {
   "cell_type": "code",
   "execution_count": 14,
   "id": "7989eca6",
   "metadata": {},
   "outputs": [],
   "source": [
    "def run_statistical_analysis(model_null, model_alt, data, n_toys=10000):\n",
    "    \n",
    "    n_data = int(data.sumEntries())\n",
    "    \n",
    "    q0 = np.zeros(n_toys)\n",
    "\n",
    "    nll_null = None\n",
    "    nll_alt = None\n",
    "\n",
    "    for i_toy in range(n_toys):\n",
    "        toy_data = model_null.generate(x, n_data).binnedClone()\n",
    "        if nll_null is None:\n",
    "            nll_null = model_null.createNLL(toy_data)\n",
    "            nll_alt = model_alt.createNLL(toy_data)\n",
    "        else:\n",
    "            nll_null.setData(toy_data)\n",
    "            nll_alt.setData(toy_data)\n",
    "        q0[i_toy] = 2 * (nll_alt.getVal() - nll_null.getVal())\n",
    "\n",
    "    plt.hist(q0, bins=int(n_toys**0.5))\n",
    "    plt.ylabel(\"number of toys\")\n",
    "    plt.xlabel(\"2NLL ratio value\")\n",
    "    plt.title(\"2NLL ratio distribution determined with toys\")\n",
    "    plt.show()\n",
    "\n",
    "    nll_null.setData(data)\n",
    "    nll_alt.setData(data)\n",
    "    q0_obs = 2 * (nll_alt.getVal() - nll_null.getVal())\n",
    "    print(\"observed 2NLL ratio:\", q0_obs)\n",
    "    print(\"p-value:\", (np.sum(q0 < q0_obs) / n_toys))"
   ]
  },
  {
   "cell_type": "markdown",
   "id": "9aae0679",
   "metadata": {},
   "source": [
    "Run the statistical analysis with the initial null and alternative hypothesis:"
   ]
  },
  {
   "cell_type": "code",
   "execution_count": 15,
   "id": "c9f5f99b",
   "metadata": {},
   "outputs": [
    {
     "data": {
      "image/png": "[encoded data removed]",
      "text/plain": [
       "<Figure size 432x288 with 1 Axes>"
      ]
     },
     "metadata": {
      "needs_background": "light"
     },
     "output_type": "display_data"
    },
    {
     "name": "stdout",
     "output_type": "stream",
     "text": [
      "observed 2NLL ratio: -10.015796246638445\n",
      "p-value: 0.00128\n"
     ]
    }
   ],
   "source": [
    "run_statistical_analysis(model_null, model_alt, roo_h_alt, n_toys=50000)"
   ]
  },
  {
   "cell_type": "markdown",
   "id": "fe2f01b8",
   "metadata": {},
   "source": [
    "Finally run the analysis with the null model where the nuisance parameters of the null model were fit to the data histogram of large volume orders. The p-value should be larger now."
   ]
  },
  {
   "cell_type": "code",
   "execution_count": 16,
   "id": "74e7815e",
   "metadata": {},
   "outputs": [
    {
     "data": {
      "image/png": "[encoded data removed]",
      "text/plain": [
       "<Figure size 432x288 with 1 Axes>"
      ]
     },
     "metadata": {
      "needs_background": "light"
     },
     "output_type": "display_data"
    },
    {
     "name": "stdout",
     "output_type": "stream",
     "text": [
      "observed 2NLL ratio: -8.380841976087083\n",
      "p-value: 0.00262\n",
      "[#1] INFO:Minization -- createNLL: caching constraint set under name CONSTR_OF_PDF_model_null_syst_FOR_OBS_x with 0 entries\n"
     ]
    }
   ],
   "source": [
    "run_statistical_analysis(model_null_syst, model_alt, roo_h_alt, n_toys=50000)"
   ]
  },
  {
   "cell_type": "markdown",
   "id": "75c641bd",
   "metadata": {},
   "source": [
    "Indeed the p-value is larger when we include the systematic uncertainty from the null hypothesis template, but the p-value is still small enough so we can conclude that large bid orders deep in the order book might have an effect on the price (or the other way around, unfortunately this analysis doesn't allow us to conclude on this)."
   ]
  },
  {
   "cell_type": "markdown",
   "id": "8c415de3",
   "metadata": {},
   "source": [
    "### Conclusion and outlook"
   ]
  },
  {
   "cell_type": "markdown",
   "id": "374b3090",
   "metadata": {},
   "source": [
    "This notebook hopefully gave you an idea on what kind of likelihood analysis can be done with RooFit. In particular, it showed how to:\n",
    "    * check two hypothesis (null hypothesis and alternative hypothesis) for compatibility using the likelihood ratio as a test statistic\n",
    "    * convert histograms to template models in RooFit\n",
    "    * how to consider the statistical uncertainties from these histograms as a systematic uncertainty in the hypothesis test\n",
    "    \n",
    "We used this hypothesis test to investigate whether large orders deep in the order book have an effect on price movement or vice versa.\n",
    "\n",
    "If you want to learn more about the statistical methods used at the LHC, please take a look at the [Practical Statistics for the LHC](https://arxiv.org/pdf/1503.07622.pdf) guide. It also explains the asymptotic formulae you can use to avoid having to generate toys."
   ]
  }
 ],
 "metadata": {
  "kernelspec": {
   "display_name": "Python 3 (ipykernel)",
   "language": "python",
   "name": "python3"
  },
  "language_info": {
   "codemirror_mode": {
    "name": "ipython",
    "version": 3
   },
   "file_extension": ".py",
   "mimetype": "text/x-python",
   "name": "python",
   "nbconvert_exporter": "python",
   "pygments_lexer": "ipython3",
   "version": "3.9.6"
  }
 },
 "nbformat": 4,
 "nbformat_minor": 5
}
