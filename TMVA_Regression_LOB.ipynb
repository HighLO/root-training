{
 "cells": [
  {
   "cell_type": "code",
   "execution_count": null,
   "id": "2ce6283c",
   "metadata": {
    "scrolled": true
   },
   "outputs": [],
   "source": [
    "import getpass\n",
    "import os\n",
    "username = os.environ['USER']\n",
    "if os.system('klist | grep Default | grep ' + username + '@CERN.CH'):\n",
    "    os.system('echo %s' % getpass.getpass() + \" | kinit \" + username)"
   ]
  },
  {
   "cell_type": "code",
   "execution_count": null,
   "id": "2f90468e",
   "metadata": {},
   "outputs": [],
   "source": [
    "import numpy as np"
   ]
  },
  {
   "cell_type": "code",
   "execution_count": null,
   "id": "dcec296b",
   "metadata": {
    "scrolled": true
   },
   "outputs": [],
   "source": [
    "import ROOT"
   ]
  },
  {
   "cell_type": "code",
   "execution_count": null,
   "id": "beeecf72",
   "metadata": {},
   "outputs": [],
   "source": [
    "%jsroot on"
   ]
  },
  {
   "cell_type": "markdown",
   "id": "16ac0f58",
   "metadata": {},
   "source": [
    "### Input data\n",
    "\n",
    "Open input ROOT file and create a RDataFrame for filtering the data"
   ]
  },
  {
   "cell_type": "code",
   "execution_count": null,
   "id": "2d00c716",
   "metadata": {
    "scrolled": true
   },
   "outputs": [],
   "source": [
    "#open remote file on the network using xrootd\n",
    "file = ROOT.TFile.Open(\"root://eosproject//eos/project/h/highlo/workshop/ZS_ZC/messages/20150210.root\")\n",
    "#open local file \n",
    "#file = ROOT.TFile.Open(\"/data/moneta/highlo/20150210.root\")"
   ]
  },
  {
   "cell_type": "code",
   "execution_count": null,
   "id": "272d4042",
   "metadata": {
    "scrolled": true
   },
   "outputs": [],
   "source": [
    "file.ls()"
   ]
  },
  {
   "cell_type": "code",
   "execution_count": null,
   "id": "5544a57b",
   "metadata": {
    "scrolled": true
   },
   "outputs": [],
   "source": [
    "tree = file.Get(\"LOB\")\n",
    "tree.Print()"
   ]
  },
  {
   "cell_type": "markdown",
   "id": "9a924d50",
   "metadata": {},
   "source": [
    "Create `RDataFrame` from name of TTree and input file "
   ]
  },
  {
   "cell_type": "code",
   "execution_count": null,
   "id": "1e71cdfd",
   "metadata": {
    "scrolled": true
   },
   "outputs": [],
   "source": [
    "rdf = ROOT.RDataFrame(\"LOB\", file)"
   ]
  },
  {
   "cell_type": "code",
   "execution_count": null,
   "id": "c17203fa",
   "metadata": {},
   "outputs": [],
   "source": [
    "rdfPrice = rdf.Filter('ZCN5_IsOriginalMessage == true && Price > 0').Define('Price_cent', 'Price ')"
   ]
  },
  {
   "cell_type": "markdown",
   "id": "ae9e5340",
   "metadata": {},
   "source": [
    "### Numpy Conversion\n",
    "\n",
    "Get columns of data frame as Numpy arrays.\n",
    "The function `AsNumPy()` returns a dictionary of numpy arrays where the key is the column name"
   ]
  },
  {
   "cell_type": "code",
   "execution_count": null,
   "id": "d7f0674e",
   "metadata": {},
   "outputs": [],
   "source": [
    "values = rdfPrice.AsNumpy([\"Price_cent\"])"
   ]
  },
  {
   "cell_type": "code",
   "execution_count": null,
   "id": "a23a9098",
   "metadata": {},
   "outputs": [],
   "source": [
    "print(values)"
   ]
  },
  {
   "cell_type": "code",
   "execution_count": null,
   "id": "48d0ee45",
   "metadata": {},
   "outputs": [],
   "source": [
    "x = values[\"Price_cent\"]\n",
    "print(x,x.shape)"
   ]
  },
  {
   "cell_type": "markdown",
   "id": "b0cc4e01",
   "metadata": {},
   "source": [
    "### Fill histograms with a Numpy array \n",
    "\n",
    "- Fill an histogram with distribution of array content (price data)\n",
    "- Fill an histogram as a sequence (time series)"
   ]
  },
  {
   "cell_type": "code",
   "execution_count": null,
   "id": "06e3a21a",
   "metadata": {},
   "outputs": [],
   "source": [
    "h1 = ROOT.TH1D(\"h1\",\"h1\",100,1550,1650)"
   ]
  },
  {
   "cell_type": "code",
   "execution_count": null,
   "id": "b6d50c12",
   "metadata": {},
   "outputs": [],
   "source": [
    "h1.FillN(10000,x.astype(\"float64\"),np.ones(1000000),1)"
   ]
  },
  {
   "cell_type": "code",
   "execution_count": null,
   "id": "47d2b00b",
   "metadata": {},
   "outputs": [],
   "source": [
    "h1.Draw()\n",
    "ROOT.gPad.Draw()"
   ]
  },
  {
   "cell_type": "code",
   "execution_count": null,
   "id": "e1afc50c",
   "metadata": {},
   "outputs": [],
   "source": [
    "h2 = ROOT.TH1D(\"h2\",\"price vs time\",10000,0,10000)\n",
    "h2.FillN(10000,np.arange(0.,10000.),x[0:10000].astype('float64'))"
   ]
  },
  {
   "cell_type": "code",
   "execution_count": null,
   "id": "0e2c03de",
   "metadata": {},
   "outputs": [],
   "source": [
    "h2.Draw('HIST')\n",
    "ROOT.gPad.Draw()"
   ]
  },
  {
   "cell_type": "markdown",
   "id": "46c0b08c",
   "metadata": {},
   "source": [
    "### Data Manipulation\n",
    "\n",
    "Using numpy manipulate the data to make a time series\n",
    "From the first N entry in the data, reshape in block of 10 values for each nb = N/10 row"
   ]
  },
  {
   "cell_type": "code",
   "execution_count": null,
   "id": "7d5c6143",
   "metadata": {},
   "outputs": [],
   "source": [
    "nevt = 650000\n",
    "seqLen = 13\n",
    "nb = int(nevt/seqLen)\n",
    "tmp = x[0:nevt].reshape(nb,seqLen)\n",
    "print (tmp.shape)"
   ]
  },
  {
   "cell_type": "markdown",
   "id": "f4c618ea",
   "metadata": {},
   "source": [
    "Split now in different arrays each colum of the tensor.\n",
    "The result is a list of 10 arrays XJ with the XJ(ievt) = X(ievt*10 + j) "
   ]
  },
  {
   "cell_type": "code",
   "execution_count": null,
   "id": "c350b485",
   "metadata": {},
   "outputs": [],
   "source": [
    "import numpy as np\n",
    "r = np.hsplit(tmp,seqLen)"
   ]
  },
  {
   "cell_type": "markdown",
   "id": "73022230",
   "metadata": {},
   "source": [
    "Need to reshape each array to be of correct dimension"
   ]
  },
  {
   "cell_type": "code",
   "execution_count": null,
   "id": "55e40979",
   "metadata": {},
   "outputs": [],
   "source": [
    "arrayList = []\n",
    "for a in r: \n",
    "    aNew = a.reshape(nb)\n",
    "    arrayList.append(aNew)\n",
    "    print(aNew.shape,aNew)"
   ]
  },
  {
   "cell_type": "markdown",
   "id": "2313d7a3",
   "metadata": {},
   "source": [
    "### Create a new tree with new data sequences\n",
    "\n",
    "Use `MakeNumpyDataFrame` to create a DataFrame and then a ROOT TTree with the new vectors\n",
    "\n",
    "Use a Python dictionary to define the columns of the new tree "
   ]
  },
  {
   "cell_type": "code",
   "execution_count": null,
   "id": "5ab1e5d3",
   "metadata": {},
   "outputs": [],
   "source": [
    "nTime = 10\n",
    "nTargets = 3\n",
    "varDict = {}\n",
    "for i in range(0,nTime):\n",
    "    varName = 'x'+str(i)\n",
    "    varDict[varName] = arrayList[0].astype('float32')\n",
    "### add targets\n",
    "for i in range(0,nTargets):\n",
    "    varName = 'xtarget'+str(i)\n",
    "    varDict[varName] = arrayList[nTime+i].astype('float32')\n"
   ]
  },
  {
   "cell_type": "code",
   "execution_count": null,
   "id": "2e2f2044",
   "metadata": {},
   "outputs": [],
   "source": [
    "df = ROOT.RDF.MakeNumpyDataFrame(varDict)"
   ]
  },
  {
   "cell_type": "code",
   "execution_count": null,
   "id": "174402b7",
   "metadata": {},
   "outputs": [],
   "source": [
    "df.Snapshot(\"tree\",\"fileWithPriceSeq.root\")"
   ]
  },
  {
   "cell_type": "markdown",
   "id": "61080b1b",
   "metadata": {},
   "source": [
    "## Use TMVA\n",
    "\n",
    "With TMVA use the data to predict the future prices. \n",
    "We use regression "
   ]
  },
  {
   "cell_type": "code",
   "execution_count": null,
   "id": "4a506f24",
   "metadata": {},
   "outputs": [],
   "source": [
    "file = ROOT.TFile.Open(\"fileWithPriceSeq.root\")"
   ]
  },
  {
   "cell_type": "code",
   "execution_count": null,
   "id": "58f80b86",
   "metadata": {},
   "outputs": [],
   "source": [
    "file.ls()"
   ]
  },
  {
   "cell_type": "code",
   "execution_count": null,
   "id": "4e0b4c7b",
   "metadata": {},
   "outputs": [],
   "source": [
    "tree = file.Get(\"tree\")"
   ]
  },
  {
   "cell_type": "code",
   "execution_count": null,
   "id": "f4182811",
   "metadata": {},
   "outputs": [],
   "source": [
    "tree.Print()"
   ]
  },
  {
   "cell_type": "markdown",
   "id": "f4ec5a21",
   "metadata": {},
   "source": [
    "#### Create the TMVA Factory\n",
    "\n",
    "The factory is the major TMVA object you have to interact with. Here is the list of parameters you need to pass\n",
    "\n",
    "The first argument is the base of the name of all the output weightfiles in the directory weight/ that will be created with the method parameters\n",
    "\n",
    "The second argument is the output file for the training results\n",
    "\n",
    "The third argument is a string option defining some general configuration for the TMVA session. For example all TMVA output can be suppressed by removing the \"!\" (not) in front of the \"Silent\" argument in the option string"
   ]
  },
  {
   "cell_type": "code",
   "execution_count": null,
   "id": "52ad972d",
   "metadata": {},
   "outputs": [],
   "source": [
    "outputFile = ROOT.TFile(\"TMVA_regression.root\",\"RECREATE\")\n",
    "factory = ROOT.TMVA.Factory( \"TMVARegression\", outputFile,\"!V:!Silent:Color:!DrawProgressBar:AnalysisType=Regression\" )"
   ]
  },
  {
   "cell_type": "markdown",
   "id": "9c7d8e93",
   "metadata": {},
   "source": [
    "#### Create the TMVA DataLoader\n",
    "\n",
    "The DataLoader is the class to define and prepare the inputs for the ML Methods \n",
    "\n",
    "- Select input features using `AddVariable`\n",
    "- Define data labels for the classification: Signal and Background data.  \n",
    "- Provide splitting of training and test sample\n"
   ]
  },
  {
   "cell_type": "code",
   "execution_count": null,
   "id": "31758e8b",
   "metadata": {},
   "outputs": [],
   "source": [
    "dataloader = ROOT.TMVA.DataLoader(\"dataset\")"
   ]
  },
  {
   "cell_type": "code",
   "execution_count": null,
   "id": "a6b0191b",
   "metadata": {},
   "outputs": [],
   "source": [
    "for i in range(0,10):\n",
    "    varname = \"x\" + str(i)\n",
    "    print(\"adding variable\",varname)\n",
    "    dataloader.AddVariable(varname, 'F' )"
   ]
  },
  {
   "cell_type": "markdown",
   "id": "26c74027",
   "metadata": {},
   "source": [
    "For regression we need to add the target variables"
   ]
  },
  {
   "cell_type": "code",
   "execution_count": null,
   "id": "b01fbdab",
   "metadata": {},
   "outputs": [],
   "source": [
    "nTargets = 1\n",
    "for i in range(0,nTargets):\n",
    "    varname = \"xtarget\" + str(i)\n",
    "    print(\"adding target\",varname)\n",
    "    dataloader.AddTarget(varname )"
   ]
  },
  {
   "cell_type": "code",
   "execution_count": null,
   "id": "2bfda147",
   "metadata": {},
   "outputs": [],
   "source": [
    "dataloader.AddRegressionTree( tree, 1.0 )"
   ]
  },
  {
   "cell_type": "code",
   "execution_count": null,
   "id": "5a843995",
   "metadata": {},
   "outputs": [],
   "source": [
    "cut = ROOT.TCut(\"\")\n",
    "dataloader.PrepareTrainingAndTestTree(cut, \"nTrain_Regression=8000:nTest_Regression=2000:SplitMode=Random:NormMode=NumEvents:!V\" );"
   ]
  },
  {
   "cell_type": "markdown",
   "id": "27ada207",
   "metadata": {},
   "source": [
    "### Booking Methods\n",
    "\n",
    "Here we book the TMVA methods. We will book\n",
    "- a Decision Tree method based n gradient boosting (BDTG)\n",
    "- a Recurrent neural network using an LSTM cell and built using TMVA DL\n",
    "- a similar network but built using Keras\n",
    "\n",
    "We start Booking the Decison Tree. You can see all possible options in the TMVA Users Guide "
   ]
  },
  {
   "cell_type": "code",
   "execution_count": null,
   "id": "44b59aa5",
   "metadata": {},
   "outputs": [],
   "source": [
    "factory.BookMethod(dataloader, ROOT.TMVA.Types.kBDT, \"BDTG\",\"!H:!V:VarTransform=N:NTrees=1000::BoostType=Grad:Shrinkage=0.1:UseBaggedBoost:BaggedSampleFraction=0.5:nCuts=20:MaxDepth=3\" )"
   ]
  },
  {
   "cell_type": "markdown",
   "id": "d9eae067",
   "metadata": {},
   "source": [
    "#### Make a TMVA recurrent network\n",
    "\n",
    "We define here the Option string to configure the TMVA network based on a LSTM cell plus a dense layer for classification\n",
    "\n",
    "##### 1. Define network layout\n",
    "\n",
    "The DNN configuration is defined using a string. Note that whitespaces between characters are not allowed. \n",
    "\n",
    "We define first the DNN layout: \n",
    "\n",
    "- **input layout** :   this defines the input data format. For a RNN  should be  ``sequence length | number of features``. \n",
    "   \n",
    "   *(note the use of the character `|` as  separator of  input parameters for DNN layout)*\n",
    "                 \n",
    "- **layer layout** string defining the layer architecture. The syntax is  \n",
    "   - layer type (e.g. DENSE, CONV, RNN)\n",
    "   - layer parameters (e.g. number of units)\n",
    "   - activation function (e.g  TANH, RELU,...)\n",
    "   \n",
    "     *the different layers are separated by the ``\",\"`` *\n",
    "                \n",
    "#####  2. Define Training Strategy\n",
    "\n",
    "We define here the training strategy parameters for the DNN. The parameters are separated by the ``\",\"`` separator. \n",
    "One can then concatenate different training strategy with different parameters. The training strategy are separated by \n",
    "the ``\"|\"`` separator. \n",
    "\n",
    " - Optimizer\n",
    " - Learning rate\n",
    " - Momentum (valid for SGD and RMSPROP)\n",
    " - Regularization and Weight Decay \n",
    " - Dropout \n",
    " - Max number of epochs \n",
    " - Convergence steps. if the test error will not decrease after that value the training will stop\n",
    " - Batch size (This value must be the same specified in the input layout)\n",
    " - Test Repetitions (the interval when the test error will be computed) \n",
    "\n",
    "\n",
    "##### 3. Define general DNN options\n",
    "\n",
    "We define the general DNN options concateneting in the final string the previously defined layout and training strategy.\n",
    "Note we use the ``\":\"`` separator to separate the different higher level options, as in the other TMVA methods. \n",
    "In addition to input layout, batch layout and training strategy we add now: \n",
    "\n",
    "- Type of Loss function (e.g. cross entropy)\n",
    "- Weight Initizalization (e.g XAVIER, XAVIERUNIFORM, NORMAL )\n",
    "- Variable Transformation\n",
    "- Type of Architecture (e.g. CPU, GPU)\n",
    "\n",
    "We can then book the method using the built otion string"
   ]
  },
  {
   "cell_type": "code",
   "execution_count": null,
   "id": "984eba96",
   "metadata": {},
   "outputs": [],
   "source": [
    "inputLayoutString = \"InputLayout=10|1\" # ntime, ninput\n",
    " \n",
    "#Define RNN layer layout\n",
    "#  it should be   LayerType (RNN or LSTM or GRU) |  number of units | number of inputs | time steps | remember output (typically no=0 | return full sequence\n",
    "rnnLayout = \"LSTM|12|1|10|0|1\"\n",
    " \n",
    "# add after RNN a reshape layer (needed top flatten the output) and a dense layer with 64 units and a last one\n",
    "# Note the last layer is linear because  when using Crossentropy a Sigmoid is applied already\n",
    "layoutString = \"Layout=\" + rnnLayout + \",RESHAPE|FLAT,DENSE|64|RELU,LINEAR\";\n",
    " \n",
    "# Defining Training strategies. Different training strings can be concatenate. Use however only one\n",
    "training1 = (\"LearningRate=1e-3,Momentum=0.0,Repetitions=1,\"\n",
    "            \"ConvergenceSteps=5,BatchSize=100,TestRepetitions=1,\"\n",
    "            \"WeightDecay=1e-2,Regularization=None,MaxEpochs=50,\"\n",
    "            \"Optimizer=ADAM,DropConfig=0.0+0.+0.+0.\")\n",
    "\n",
    "\n",
    "trainingStrategyString = \"TrainingStrategy=\" + training1\n",
    "\n",
    " \n",
    "# Define the full RNN Noption string adding the final options for all network\n",
    "# add a variable transformazion to normalize in interval [-1,1] input data\n",
    "rnnOptions = (\"!H:!V:ErrorStrategy=SUMOFSQUARES:VarTransform=N:\"\n",
    "                            \"WeightInitialization=XAVIERUNIFORM:ValidationSize=0.2:RandomSeed=1234\");\n",
    "\n",
    "rnnOptions +=  \":\" + inputLayoutString\n",
    "#rnnOptions +=  \":\" + batchLayoutString\n",
    "rnnOptions +=  \":\" + layoutString\n",
    "rnnOptions +=  \":\" + trainingStrategyString\n",
    "rnnOptions +=  \":Architecture=GPU\"\n",
    " \n",
    "print(rnnOptions)"
   ]
  },
  {
   "cell_type": "code",
   "execution_count": null,
   "id": "5ce35e25",
   "metadata": {},
   "outputs": [],
   "source": [
    "#Disable regression in TMVA. It works only in master version\n",
    "useTMVA_RNN = False\n",
    "if (useTMVA_RNN) : factory.BookMethod(dataloader, ROOT.TMVA.Types.kDL, \"TMVA_LSTM\", rnnOptions)"
   ]
  },
  {
   "cell_type": "markdown",
   "id": "cef89f46",
   "metadata": {},
   "source": [
    "#### Make Keras model\n",
    "\n",
    "We define now a similar model based on a LSTM using Keras"
   ]
  },
  {
   "cell_type": "code",
   "execution_count": null,
   "id": "1f0b1f79",
   "metadata": {},
   "outputs": [],
   "source": [
    "import tensorflow\n",
    "from tensorflow.keras.models import Sequential\n",
    "from tensorflow.keras.optimizers import Adam\n",
    "from tensorflow.keras.layers import Input, Dense, Dropout, Flatten, SimpleRNN, GRU, LSTM, Reshape, BatchNormalization\n",
    "\n",
    "model = Sequential() \n",
    "model.add(Reshape((10, 1), input_shape = (10, )))\n",
    "model.add(LSTM(units=12, return_sequences=True) )\n",
    "model.add(Flatten())\n",
    "model.add(Dense(64, activation = 'relu')) \n",
    "model.add(Dense(nTargets, activation = 'sigmoid')) \n",
    "model.compile(loss = 'mean_squared_error', optimizer = Adam(learning_rate = 0.001), metrics = ['accuracy'])\n",
    "modelName = 'model_LSTM.h5'\n",
    "model.save(modelName)\n",
    "model.summary()\n"
   ]
  },
  {
   "cell_type": "code",
   "execution_count": null,
   "id": "23d63088",
   "metadata": {},
   "outputs": [],
   "source": [
    "ROOT.TMVA.PyMethodBase.PyInitialize()"
   ]
  },
  {
   "cell_type": "markdown",
   "id": "48e40d2a",
   "metadata": {},
   "source": [
    "Book the PyKeras method using as input the Keras file defining the model : `model_LSTM.h5`"
   ]
  },
  {
   "cell_type": "code",
   "execution_count": null,
   "id": "272061fb",
   "metadata": {},
   "outputs": [],
   "source": [
    "#disable also Keras RNN because takes a lot of time in evaluation\n",
    "useKeras_RNN = False\n",
    "if (useKeras_RNN) : factory.BookMethod(dataloader, ROOT.TMVA.Types.kPyKeras,\"PyKeras_LSTM\",\"!H:!V:VarTransform=N:FilenameModel=model_LSTM.h5:FilenameTrainedModel=trained_model_LSTM.h5:NumEpochs=30:BatchSize=100:GpuOptions=allow_growth=True\")"
   ]
  },
  {
   "cell_type": "markdown",
   "id": "e3d86e84",
   "metadata": {},
   "source": [
    "### Train Methods\n",
    "\n",
    "Here we train all the previously booked methods."
   ]
  },
  {
   "cell_type": "code",
   "execution_count": null,
   "id": "59e0769d",
   "metadata": {},
   "outputs": [],
   "source": [
    "factory.TrainAllMethods()"
   ]
  },
  {
   "cell_type": "markdown",
   "id": "5cc7077c",
   "metadata": {},
   "source": [
    "### Test methods\n",
    "Here we test all methods using the test data set"
   ]
  },
  {
   "cell_type": "code",
   "execution_count": null,
   "id": "8d74acae",
   "metadata": {},
   "outputs": [],
   "source": [
    "factory.TestAllMethods()"
   ]
  },
  {
   "cell_type": "markdown",
   "id": "27315b81",
   "metadata": {},
   "source": [
    "### Evaluate methods\n",
    "\n",
    "Here we evaluate all methods using both the test and training data set and we save results (histogram and output data tree's in the output file"
   ]
  },
  {
   "cell_type": "code",
   "execution_count": null,
   "id": "95aed37a",
   "metadata": {},
   "outputs": [],
   "source": [
    "factory.EvaluateAllMethods()"
   ]
  },
  {
   "cell_type": "markdown",
   "id": "60cf8ff8",
   "metadata": {},
   "source": [
    "### Plot result of Regression\n"
   ]
  },
  {
   "cell_type": "markdown",
   "id": "132cf247",
   "metadata": {},
   "source": [
    "\n",
    "\n",
    "Plot the predicted target - true target "
   ]
  },
  {
   "cell_type": "code",
   "execution_count": null,
   "id": "42452d40",
   "metadata": {},
   "outputs": [],
   "source": [
    "outputFile.Close();\n",
    "df = ROOT.RDataFrame('dataset/TestTree',outputFile.GetName())"
   ]
  },
  {
   "cell_type": "code",
   "execution_count": null,
   "id": "692badc6",
   "metadata": {},
   "outputs": [],
   "source": [
    "r = df.Define(\"Reg_BDT\",\"BDTG.xtarget0-xtarget0\")\n",
    "h1 = r.Histo1D('Reg_BDT')"
   ]
  },
  {
   "cell_type": "code",
   "execution_count": null,
   "id": "a4284aca",
   "metadata": {},
   "outputs": [],
   "source": [
    "h1.Draw()\n",
    "ROOT.gPad.Draw()"
   ]
  },
  {
   "cell_type": "code",
   "execution_count": null,
   "id": "3c0dd496",
   "metadata": {},
   "outputs": [],
   "source": []
  }
 ],
 "metadata": {
  "kernelspec": {
   "display_name": "Python 3",
   "language": "python",
   "name": "python3"
  },
  "language_info": {
   "codemirror_mode": {
    "name": "ipython",
    "version": 3
   },
   "file_extension": ".py",
   "mimetype": "text/x-python",
   "name": "python",
   "nbconvert_exporter": "python",
   "pygments_lexer": "ipython3",
   "version": "3.7.6"
  }
 },
 "nbformat": 4,
 "nbformat_minor": 5
}
